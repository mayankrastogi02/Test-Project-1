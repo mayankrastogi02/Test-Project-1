{
    "cells": [
        {
            "cell_type": "markdown",
            "metadata": {},
            "source": "DESCRIPTION"
        },
        {
            "cell_type": "code",
            "execution_count": 1,
            "metadata": {},
            "outputs": [
                {
                    "data": {
                        "text/html": "<div>\n<style scoped>\n    .dataframe tbody tr th:only-of-type {\n        vertical-align: middle;\n    }\n\n    .dataframe tbody tr th {\n        vertical-align: top;\n    }\n\n    .dataframe thead th {\n        text-align: right;\n    }\n</style>\n<table border=\"1\" class=\"dataframe\">\n  <thead>\n    <tr style=\"text-align: right;\">\n      <th></th>\n      <th>Mno</th>\n      <th>Title</th>\n      <th>Genre</th>\n      <th>Year_of_Release</th>\n      <th>Language</th>\n      <th>Country_of_Origin</th>\n      <th>Director</th>\n      <th>Starring</th>\n      <th>IMDb_link</th>\n    </tr>\n  </thead>\n  <tbody>\n    <tr>\n      <th>0</th>\n      <td>1</td>\n      <td>John Wick Series</td>\n      <td>Action</td>\n      <td>2016</td>\n      <td>English</td>\n      <td>America</td>\n      <td>Chad Stahelski</td>\n      <td>Keanu Reeves</td>\n      <td>https://www.imdb.com/title/tt2911666/?ref_=fn_...</td>\n    </tr>\n    <tr>\n      <th>1</th>\n      <td>2</td>\n      <td>Downfall</td>\n      <td>War</td>\n      <td>2004</td>\n      <td>German/Russian</td>\n      <td>German,Italy,Austria</td>\n      <td>Oliver Hirschbiegel</td>\n      <td>Bruno Ganz</td>\n      <td>https://www.imdb.com/title/tt0363163/?ref_=nv_...</td>\n    </tr>\n    <tr>\n      <th>2</th>\n      <td>3</td>\n      <td>I am Love</td>\n      <td>Romance</td>\n      <td>2009</td>\n      <td>Italian</td>\n      <td>Italy</td>\n      <td>Luca Guadagino</td>\n      <td>Tilda Swinton</td>\n      <td>https://www.imdb.com/title/tt1226236/?ref_=nv_...</td>\n    </tr>\n    <tr>\n      <th>3</th>\n      <td>4</td>\n      <td>The Seventh Seal</td>\n      <td>Fantasy</td>\n      <td>1954</td>\n      <td>Swedish</td>\n      <td>Sweden</td>\n      <td>Ingmar Bergman</td>\n      <td>Gunnar Bj\u00f6rnstrand</td>\n      <td>https://www.imdb.com/title/tt0050976/?ref_=nv_...</td>\n    </tr>\n    <tr>\n      <th>4</th>\n      <td>5</td>\n      <td>Playtime</td>\n      <td>Comedy</td>\n      <td>1967</td>\n      <td>French</td>\n      <td>France</td>\n      <td>Jacques Tati</td>\n      <td>Jacques Tati</td>\n      <td>https://www.imdb.com/title/tt0062136/?ref_=nv_...</td>\n    </tr>\n  </tbody>\n</table>\n</div>",
                        "text/plain": "   Mno             Title     Genre  Year_of_Release        Language  \\\n0    1  John Wick Series   Action              2016         English   \n1    2          Downfall       War             2004  German/Russian   \n2    3         I am Love   Romance             2009         Italian   \n3    4  The Seventh Seal   Fantasy             1954         Swedish   \n4    5          Playtime    Comedy             1967          French   \n\n      Country_of_Origin             Director            Starring  \\\n0               America       Chad Stahelski        Keanu Reeves   \n1  German,Italy,Austria  Oliver Hirschbiegel          Bruno Ganz   \n2                 Italy       Luca Guadagino       Tilda Swinton   \n3                Sweden       Ingmar Bergman  Gunnar Bj\u00f6rnstrand   \n4                France         Jacques Tati        Jacques Tati   \n\n                                           IMDb_link  \n0  https://www.imdb.com/title/tt2911666/?ref_=fn_...  \n1  https://www.imdb.com/title/tt0363163/?ref_=nv_...  \n2  https://www.imdb.com/title/tt1226236/?ref_=nv_...  \n3  https://www.imdb.com/title/tt0050976/?ref_=nv_...  \n4  https://www.imdb.com/title/tt0062136/?ref_=nv_...  "
                    },
                    "execution_count": 1,
                    "metadata": {},
                    "output_type": "execute_result"
                }
            ],
            "source": "# The code was removed by Watson Studio for sharing."
        },
        {
            "cell_type": "code",
            "execution_count": null,
            "metadata": {},
            "outputs": [],
            "source": ""
        }
    ],
    "metadata": {
        "kernelspec": {
            "display_name": "Python 3.6",
            "language": "python",
            "name": "python3"
        },
        "language_info": {
            "codemirror_mode": {
                "name": "ipython",
                "version": 3
            },
            "file_extension": ".py",
            "mimetype": "text/x-python",
            "name": "python",
            "nbconvert_exporter": "python",
            "pygments_lexer": "ipython3",
            "version": "3.6.9"
        }
    },
    "nbformat": 4,
    "nbformat_minor": 1
}